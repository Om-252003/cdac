{
 "cells": [
  {
   "cell_type": "code",
   "execution_count": null,
   "id": "1dbbb1ea-d705-4fa1-b4d9-9a7bb1346c9e",
   "metadata": {},
   "outputs": [],
   "source": [
    "Control Statements : Statemetns which control the flow of program.\n",
    "\n",
    "    They work on conditions.\n",
    "\n",
    "    1. Conditional Statements:\n",
    "    \n",
    "        if\n",
    "        elif\n",
    "        else\n",
    "    \n",
    "   2.  Looping Statements:\n",
    "    \n",
    "        for\n",
    "        while\n",
    "    \n",
    "    3 .Control Flow Statements:\n",
    "    \n",
    "        break\n",
    "        continue\n",
    "        pass\n",
    "    \n",
    "    4. Exception Handling:\n",
    "    \n",
    "        try \n",
    "        except\n",
    "        else\n",
    "        finally\n",
    "    \n",
    "    5. Other Control Flow Statements:\n",
    "    \n",
    "        assert\n",
    "        with\n",
    "\n",
    "if : \n",
    "            if condition : \n",
    "                body\n",
    "    execution flow : condition -> body \n",
    "\n",
    "for : \n",
    "            for condition, (operation)\n",
    "                body \n",
    "     execution flow : condition -> body -> operation -> repeat untill condition is False    "
   ]
  },
  {
   "cell_type": "code",
   "execution_count": 2,
   "id": "493d124b-8b38-46aa-a136-f78ae629f275",
   "metadata": {},
   "outputs": [
    {
     "name": "stdout",
     "output_type": "stream",
     "text": [
      "10\n"
     ]
    }
   ],
   "source": [
    "a = 10\n",
    "if a == 10 : print(a)"
   ]
  },
  {
   "cell_type": "code",
   "execution_count": 3,
   "id": "e786449c-b1c9-4539-9442-26db588dab30",
   "metadata": {},
   "outputs": [
    {
     "name": "stdout",
     "output_type": "stream",
     "text": [
      "yes\n"
     ]
    }
   ],
   "source": [
    "if 10+20 : print(\"yes\")"
   ]
  },
  {
   "cell_type": "code",
   "execution_count": 6,
   "id": "b56e57c4-7486-455b-bcfc-ae8984ed2cb9",
   "metadata": {},
   "outputs": [
    {
     "name": "stdout",
     "output_type": "stream",
     "text": [
      "yes\n"
     ]
    }
   ],
   "source": [
    "if 0-1 : print(\"yes\")"
   ]
  },
  {
   "cell_type": "code",
   "execution_count": 12,
   "id": "eb76ac2d-4245-4b17-8d3b-bc2bd34c87fd",
   "metadata": {},
   "outputs": [
    {
     "name": "stdout",
     "output_type": "stream",
     "text": [
      "false\n"
     ]
    }
   ],
   "source": [
    "if 1-1 : print(\"yes\")\n",
    "else : print(\"false\")"
   ]
  },
  {
   "cell_type": "code",
   "execution_count": 13,
   "id": "43a4f4b8-7a4d-4099-bdfb-45429a7991df",
   "metadata": {},
   "outputs": [
    {
     "name": "stdout",
     "output_type": "stream",
     "text": [
      "zero\n"
     ]
    }
   ],
   "source": [
    "a=0\n",
    "if a>0:\n",
    "    print(\"positive\")\n",
    "elif a<0:\n",
    "    print(\"negative\")\n",
    "else:\n",
    "    print(\"zero\")"
   ]
  },
  {
   "cell_type": "code",
   "execution_count": null,
   "id": "0c0fd7e3-3a52-4e99-8d9d-64c16d4df424",
   "metadata": {},
   "outputs": [],
   "source": [
    "num=3\n",
    "\n",
    "if num > 0:\n",
    "    if num < 10:\n",
    "        print(\"greater than 0 but less than 10\")\n",
    "    else:\n",
    "        print(\"greater than 0 and equal to or more than 10\")\n",
    "elif num < 0:\n",
    "    print(\"it is negative\")\n",
    "else:\n",
    "    print(\"it is zero\")"
   ]
  },
  {
   "cell_type": "code",
   "execution_count": 14,
   "id": "5238c28a-54e8-4604-a16e-ba41b1c30a06",
   "metadata": {},
   "outputs": [
    {
     "name": "stdout",
     "output_type": "stream",
     "text": [
      "Yes\n"
     ]
    }
   ],
   "source": [
    "a = 10\n",
    "\n",
    "if a==11 or 12 : \n",
    "    print(\"Yes\")"
   ]
  },
  {
   "cell_type": "code",
   "execution_count": 15,
   "id": "77ef5412-d488-4af4-b7ba-2ca9825a359a",
   "metadata": {},
   "outputs": [
    {
     "name": "stdout",
     "output_type": "stream",
     "text": [
      "No\n"
     ]
    }
   ],
   "source": [
    "a = 10\n",
    "\n",
    "if a == 11 or a == 12 : \n",
    "    print(\"Yes\")\n",
    "else : print(\"No\")"
   ]
  },
  {
   "cell_type": "code",
   "execution_count": null,
   "id": "7f34d0bf-50ee-4a41-9f18-2f07d7fadfd4",
   "metadata": {},
   "outputs": [],
   "source": [
    "\n",
    "\n",
    "\n",
    "############## match ###############\n",
    "\n",
    "\n",
    " "
   ]
  },
  {
   "cell_type": "code",
   "execution_count": null,
   "id": "7eae07ef-9e3f-4043-bc1b-d908ada3f612",
   "metadata": {},
   "outputs": [],
   "source": [
    "used for pattern matching, we match choice with cases\n",
    "\n",
    "once a case is matched, others will be ignored.\n",
    "\n",
    "    we don't need to write break statement\n",
    "\n",
    "if we compare one pattern with itself we will get error, other cases not reachable\n",
    "\n",
    "    case _ is a wildcard , works if no pattern is matched\n",
    "\n",
    "code below wildcard will not be reachable. \n",
    "    if written code below it, get error"
   ]
  },
  {
   "cell_type": "code",
   "execution_count": 16,
   "id": "37eff06a-f4bb-4d54-baf4-971dd4008b97",
   "metadata": {},
   "outputs": [
    {
     "name": "stdout",
     "output_type": "stream",
     "text": [
      "it is 7\n"
     ]
    }
   ],
   "source": [
    "a=7\n",
    "match a:\n",
    "        case 5:\n",
    "                print(\"it is 5\")\n",
    "        case 7:\n",
    "                print(\"it is 7\")\n",
    "        case 7 : \n",
    "            print(\"yes it is 7\")\n",
    "        case _:\n",
    "                print(\"not a desired number\")"
   ]
  },
  {
   "cell_type": "code",
   "execution_count": 17,
   "id": "37fa64e5-8c5a-417d-81d2-cd15588b5bd4",
   "metadata": {},
   "outputs": [
    {
     "name": "stdout",
     "output_type": "stream",
     "text": [
      "it is 4.5\n"
     ]
    }
   ],
   "source": [
    "var=4.5\n",
    "match var:\n",
    "    case 3.4: \n",
    "            print(\"it is 3.4\")\n",
    "    case 4.5:\n",
    "            print(\"it is 4.5\")\n",
    "    case _: \n",
    "            print(\"not a valid number\")"
   ]
  },
  {
   "cell_type": "code",
   "execution_count": 27,
   "id": "58d2278a-066a-4ab3-a1a9-7bdc1e476482",
   "metadata": {},
   "outputs": [
    {
     "name": "stdout",
     "output_type": "stream",
     "text": [
      "it's true\n"
     ]
    }
   ],
   "source": [
    "var1=True\n",
    "match var1:\n",
    "    case True:\n",
    "            print(\"it's true\")\n",
    "    case False:\n",
    "            print(\"it's false\")\n",
    "    case _:\n",
    "            print(\"invalid condition\")"
   ]
  },
  {
   "cell_type": "code",
   "execution_count": 19,
   "id": "adcccd34-2494-4047-9a0e-7a201da32791",
   "metadata": {},
   "outputs": [
    {
     "name": "stdout",
     "output_type": "stream",
     "text": [
      "Vowel A\n"
     ]
    }
   ],
   "source": [
    "ch='A'\n",
    "\n",
    "match ch:\n",
    "        case 'A':\n",
    "                print(\"Vowel A\")\n",
    "        case 'E':\n",
    "                print(\"Vowel E\")\n",
    "        case _:\n",
    "                print(\"not a vowel\")"
   ]
  },
  {
   "cell_type": "code",
   "execution_count": 20,
   "id": "7b54fe78-1d90-4fb7-9530-e8ff19135d3c",
   "metadata": {},
   "outputs": [
    {
     "name": "stdout",
     "output_type": "stream",
     "text": [
      "it's welcome\n"
     ]
    }
   ],
   "source": [
    "greet = \"welcome\"\n",
    "match greet:\n",
    "    case \"welcome\":\n",
    "        print(\"it's welcome\")\n",
    "    case \"hello\":\n",
    "        print(\"it's hello\")\n",
    "    case _:\n",
    "        print(\"not a valid greet\")"
   ]
  },
  {
   "cell_type": "code",
   "execution_count": null,
   "id": "d4febb66-7a97-4f4a-a22d-eb5acd3e5204",
   "metadata": {},
   "outputs": [],
   "source": [
    "The code below does not work"
   ]
  },
  {
   "cell_type": "code",
   "execution_count": 21,
   "id": "61dbfe02-1b59-4d7d-bca3-5115179d7e62",
   "metadata": {},
   "outputs": [
    {
     "ename": "SyntaxError",
     "evalue": "name capture 't' makes remaining patterns unreachable (2970558722.py, line 9)",
     "output_type": "error",
     "traceback": [
      "  \u001b[36mCell\u001b[39m\u001b[36m \u001b[39m\u001b[32mIn[21]\u001b[39m\u001b[32m, line 9\u001b[39m\n\u001b[31m    \u001b[39m\u001b[31mcase t :\u001b[39m\n         ^\n\u001b[31mSyntaxError\u001b[39m\u001b[31m:\u001b[39m name capture 't' makes remaining patterns unreachable\n"
     ]
    }
   ],
   "source": [
    "class D: pass\n",
    "class T: pass\n",
    "\n",
    "d = D()\n",
    "t = T()\n",
    "\n",
    "ch = t\n",
    "match ch:\n",
    "    case t : \n",
    "        print(\"t is chosen\")\n",
    "    case d : \n",
    "        print(\"d is chosen\")\n",
    "    case _ : \n",
    "        print(\"None\")\n",
    "        "
   ]
  },
  {
   "cell_type": "code",
   "execution_count": null,
   "id": "4042b376-1e9f-4e4f-95ea-1ad892af0953",
   "metadata": {},
   "outputs": [],
   "source": [
    "because the ch = T()\n",
    "and match compares T() with reference t\n",
    "which becomes False"
   ]
  },
  {
   "cell_type": "code",
   "execution_count": 22,
   "id": "d9a19fe0-8146-4874-ae16-1f1686d905e8",
   "metadata": {},
   "outputs": [
    {
     "name": "stdout",
     "output_type": "stream",
     "text": [
      "t is chosen\n"
     ]
    }
   ],
   "source": [
    "class D: pass\n",
    "class T: pass\n",
    "\n",
    "d = D()\n",
    "t = T()\n",
    "\n",
    "ch = t\n",
    "match ch:\n",
    "    case T() : \n",
    "        print(\"t is chosen\")\n",
    "    case D() : \n",
    "        print(\"d is chosen\")\n",
    "    case _ : \n",
    "        print(\"None\")\n",
    "        "
   ]
  },
  {
   "cell_type": "code",
   "execution_count": 23,
   "id": "9d1a3cc4-f58e-4bef-b7b6-b71ab79c2ef7",
   "metadata": {},
   "outputs": [
    {
     "ename": "SyntaxError",
     "evalue": "wildcard makes remaining patterns unreachable (3311349074.py, line 7)",
     "output_type": "error",
     "traceback": [
      "  \u001b[36mCell\u001b[39m\u001b[36m \u001b[39m\u001b[32mIn[23]\u001b[39m\u001b[32m, line 7\u001b[39m\n\u001b[31m    \u001b[39m\u001b[31mcase _:\u001b[39m\n         ^\n\u001b[31mSyntaxError\u001b[39m\u001b[31m:\u001b[39m wildcard makes remaining patterns unreachable\n"
     ]
    }
   ],
   "source": [
    "greet = \"welcome\"\n",
    "match greet:\n",
    "    case \"welcome\":\n",
    "        print(\"it's welcome\")\n",
    "    case \"hello\":\n",
    "        print(\"it's hello\")\n",
    "    case _:\n",
    "        print(\"not a valid greet\")\n",
    "        \n",
    "    case \"welcome\" : print(\"Done\")\n"
   ]
  },
  {
   "cell_type": "code",
   "execution_count": null,
   "id": "4bcd474f-b1f4-4673-af5f-a3c76b3dd835",
   "metadata": {},
   "outputs": [],
   "source": [
    "the code Below will not work "
   ]
  },
  {
   "cell_type": "code",
   "execution_count": 24,
   "id": "77aa9710-b0a2-42d4-a0dc-d7e32ea78eed",
   "metadata": {},
   "outputs": [
    {
     "ename": "SyntaxError",
     "evalue": "imaginary number required in complex literal (3393955197.py, line 3)",
     "output_type": "error",
     "traceback": [
      "  \u001b[36mCell\u001b[39m\u001b[36m \u001b[39m\u001b[32mIn[24]\u001b[39m\u001b[32m, line 3\u001b[39m\n\u001b[31m    \u001b[39m\u001b[31mcase 5+5 : print(\"y\")\u001b[39m\n           ^\n\u001b[31mSyntaxError\u001b[39m\u001b[31m:\u001b[39m imaginary number required in complex literal\n"
     ]
    }
   ],
   "source": [
    "a = 10\n",
    "match a:\n",
    "    case 5+5 : print(\"y\")"
   ]
  },
  {
   "cell_type": "code",
   "execution_count": null,
   "id": "5f0e9b3e-e664-4fcd-95ce-83efe35f26d4",
   "metadata": {},
   "outputs": [],
   "source": [
    "It will consider 5+5 as complex number and gives error because i is not written there, even if we put brackets there, No."
   ]
  },
  {
   "cell_type": "code",
   "execution_count": 25,
   "id": "07f2487f-80f4-4a5b-a6e8-97114743585e",
   "metadata": {},
   "outputs": [
    {
     "name": "stdout",
     "output_type": "stream",
     "text": [
      "YES\n",
      "YES\n"
     ]
    }
   ],
   "source": [
    "a = None\n",
    "match a:\n",
    "    case a : print(\"YES\")\n",
    "\n",
    "match a:\n",
    "    case None : print(\"YES\")"
   ]
  },
  {
   "cell_type": "code",
   "execution_count": null,
   "id": "ff3e908a-b3be-46b0-97c0-a281d69c393a",
   "metadata": {},
   "outputs": [],
   "source": [
    "\n",
    "\n",
    "\n",
    "############## Loops ###############\n",
    "\n",
    "\n",
    " "
   ]
  },
  {
   "cell_type": "code",
   "execution_count": null,
   "id": "287657f6-b850-43b3-936c-672f782dfc2a",
   "metadata": {},
   "outputs": [],
   "source": [
    "for condition, (operation) :\n",
    "    body\n",
    "for loop runs from start(inclusive) to end(exclusive) till end - step"
   ]
  },
  {
   "cell_type": "code",
   "execution_count": null,
   "id": "e45db890-ff1c-4e9e-ac64-54ac5dd835d9",
   "metadata": {},
   "outputs": [],
   "source": [
    "for i in range(1,5):\n",
    "    print(i)"
   ]
  },
  {
   "cell_type": "code",
   "execution_count": null,
   "id": "a3e28f31-0c8a-4859-934b-06424d5188e5",
   "metadata": {},
   "outputs": [],
   "source": [
    "for i in range(1,5,2):\n",
    "    print(i)"
   ]
  },
  {
   "cell_type": "code",
   "execution_count": 28,
   "id": "8a1853c4-0773-4b82-b195-54fceb290500",
   "metadata": {},
   "outputs": [
    {
     "name": "stdout",
     "output_type": "stream",
     "text": [
      "5\n",
      "4\n",
      "3\n",
      "2\n"
     ]
    }
   ],
   "source": [
    "for i in range(5,1,-1):\n",
    "    print(i)"
   ]
  },
  {
   "cell_type": "code",
   "execution_count": 29,
   "id": "fa7b6623-7e68-43e5-a502-d755e1f10a03",
   "metadata": {},
   "outputs": [
    {
     "name": "stdout",
     "output_type": "stream",
     "text": [
      "5\n",
      "3\n"
     ]
    }
   ],
   "source": [
    "for i in range(5,1,-2):\n",
    "    print(i)"
   ]
  },
  {
   "cell_type": "code",
   "execution_count": null,
   "id": "6efd0e8c-c4bf-4e86-8d0c-ac7d9b10ebfd",
   "metadata": {},
   "outputs": [],
   "source": [
    "Months = [\"Jan\",\"Feb\",\"Mar\",\"April\",\"May\",\"June\"]\n",
    "\tfor m in Months:\n",
    "\t\tprint(m)"
   ]
  },
  {
   "cell_type": "code",
   "execution_count": 30,
   "id": "25107358-b42b-4957-adb4-6487bd25aa28",
   "metadata": {},
   "outputs": [
    {
     "name": "stdout",
     "output_type": "stream",
     "text": [
      "0\n",
      "1\n",
      "2\n",
      "3\n"
     ]
    }
   ],
   "source": [
    "import itertools\n",
    "for i in itertools.count(0):  # Starts at 0, increments by 1 by default\n",
    "    print(i)\n",
    "    if i == 3: break"
   ]
  },
  {
   "cell_type": "code",
   "execution_count": 31,
   "id": "eb0c496c-2fb8-46dd-8c62-0b24feffaf4b",
   "metadata": {},
   "outputs": [
    {
     "name": "stdout",
     "output_type": "stream",
     "text": [
      "1\n",
      "2\n",
      "3\n",
      "1\n",
      "2\n"
     ]
    }
   ],
   "source": [
    "import itertools\n",
    "cnt = 0\n",
    "for i in itertools.cycle([1, 2, 3]):\n",
    "    print(i)\n",
    "    cnt +=1\n",
    "    \n",
    "    if cnt == 5: break "
   ]
  },
  {
   "cell_type": "code",
   "execution_count": null,
   "id": "570e3c27-843e-4329-a3ff-0c1a21795225",
   "metadata": {},
   "outputs": [],
   "source": [
    "while loop : \n",
    "\n",
    "initialization\n",
    "while condition\n",
    "body\n",
    "operation"
   ]
  },
  {
   "cell_type": "code",
   "execution_count": null,
   "id": "8a2f4bee-31ca-4191-a026-baf125ade2be",
   "metadata": {},
   "outputs": [],
   "source": [
    "i = 1\n",
    "\n",
    "while i<6:\n",
    "\n",
    "    print(\"i is\", i)\n",
    "    i = i + 1\n",
    "    "
   ]
  },
  {
   "cell_type": "code",
   "execution_count": null,
   "id": "dc7db5c9-75d8-4e43-acb9-d575b8401dcf",
   "metadata": {},
   "outputs": [],
   "source": [
    "cnt = 0\n",
    "while 1 or True:\n",
    "    print(\"inf loop\")\n",
    "    if cnt == 2: break\n",
    "    cnt+=1"
   ]
  },
  {
   "cell_type": "code",
   "execution_count": null,
   "id": "5bc4ae13-a11e-44bc-86b0-cf842602cebf",
   "metadata": {},
   "outputs": [],
   "source": [
    "\n",
    "\n",
    "\n",
    "############## keywords ###############\n",
    "\n",
    "\n",
    " "
   ]
  },
  {
   "cell_type": "code",
   "execution_count": null,
   "id": "40dd7d22-3e2c-4c38-8a70-12d41128c7d6",
   "metadata": {},
   "outputs": [],
   "source": [
    "break : used to get the control out of loop\n",
    "continue : to skip current iteration. \n",
    "pass : python does not allow empty blocks to be written, so we can write pass in blocks.\n",
    "\n",
    "    if we write statement below pass, they will get executed."
   ]
  },
  {
   "cell_type": "code",
   "execution_count": 32,
   "id": "93a563a6-e60a-42fa-bfbf-133771f4409d",
   "metadata": {},
   "outputs": [
    {
     "name": "stdout",
     "output_type": "stream",
     "text": [
      "Done\n"
     ]
    }
   ],
   "source": [
    "if True:\n",
    "    pass\n",
    "    print(\"Done\")"
   ]
  },
  {
   "cell_type": "code",
   "execution_count": null,
   "id": "fe222bb9-c65d-481c-a4dc-f4318ed491bd",
   "metadata": {},
   "outputs": [],
   "source": [
    "assert : assert is used for debugging.\n",
    "Syntax \n",
    "    assert condition , \"error statement\"\n",
    "\n",
    "statements below assertion Error will not be executed"
   ]
  },
  {
   "cell_type": "code",
   "execution_count": 34,
   "id": "8bd93960-0668-4c16-a095-bff36f4f448d",
   "metadata": {
    "scrolled": true
   },
   "outputs": [
    {
     "name": "stdout",
     "output_type": "stream",
     "text": [
      "Done\n"
     ]
    }
   ],
   "source": [
    "assert 100>20 , \"wrong\"\n",
    "print(\"Done\")"
   ]
  },
  {
   "cell_type": "code",
   "execution_count": null,
   "id": "0936ef88-ae32-477f-a141-d889b375ec64",
   "metadata": {},
   "outputs": [],
   "source": [
    "\n",
    "ternary operator in python\n",
    "\n",
    "syntax\n",
    "[on_true] if [expression] else [on_false] "
   ]
  },
  {
   "cell_type": "code",
   "execution_count": 37,
   "id": "a7e45e7f-78a5-495b-b4ae-c3952da0db4c",
   "metadata": {},
   "outputs": [
    {
     "name": "stdout",
     "output_type": "stream",
     "text": [
      "negative\n"
     ]
    }
   ],
   "source": [
    "i=-1\n",
    "print(\"positive\") if(i>0) else print(\"negative\")"
   ]
  },
  {
   "cell_type": "code",
   "execution_count": null,
   "id": "f87f40e4-ea17-478b-8bc3-0519f3d68156",
   "metadata": {},
   "outputs": [],
   "source": [
    "\n",
    "\n",
    "\n",
    "############## Ternary ###############\n",
    "\n",
    "\n",
    " "
   ]
  },
  {
   "cell_type": "code",
   "execution_count": 38,
   "id": "36ef0fda-beb3-4e14-85b1-7731c15c9d34",
   "metadata": {},
   "outputs": [
    {
     "name": "stdout",
     "output_type": "stream",
     "text": [
      "zero\n"
     ]
    }
   ],
   "source": [
    "# nested turnary\n",
    "i=0\n",
    "print(\"positive\") if i > 0 else print(\"negative\") if i < 0 else print(\"zero\")"
   ]
  },
  {
   "cell_type": "code",
   "execution_count": null,
   "id": "de44ae94-68aa-4b9d-80a0-5208e8714a36",
   "metadata": {},
   "outputs": [],
   "source": [
    "\n",
    "\n",
    "\n",
    "############## Extra functions ###############\n",
    "\n",
    "\n",
    " "
   ]
  },
  {
   "cell_type": "code",
   "execution_count": null,
   "id": "06f5595d-831d-4f1a-91a4-efbe1bd2f310",
   "metadata": {},
   "outputs": [],
   "source": [
    "Enumerate function gives indexes to the elements of collection"
   ]
  },
  {
   "cell_type": "code",
   "execution_count": 39,
   "id": "843ff81a-cf6b-4827-9f11-662f28cbf0e8",
   "metadata": {},
   "outputs": [
    {
     "name": "stdout",
     "output_type": "stream",
     "text": [
      "0 Jan\n",
      "1 Feb\n",
      "2 Mar\n",
      "3 April\n",
      "4 May\n",
      "5 June\n"
     ]
    }
   ],
   "source": [
    "Months = [\"Jan\",\"Feb\",\"Mar\",\"April\",\"May\",\"June\"]\n",
    "for i, m in enumerate (Months):\n",
    "     print(i,m)"
   ]
  },
  {
   "cell_type": "code",
   "execution_count": null,
   "id": "a6ab45e3-7e7c-45ee-bf68-73eb928ffa06",
   "metadata": {},
   "outputs": [],
   "source": [
    "zip() takes two or more iterables and combines the elements into a zip object of tuples \n",
    "\n",
    "-lengths of iterables must be same else error\n"
   ]
  },
  {
   "cell_type": "code",
   "execution_count": 40,
   "id": "28fecd3d-0465-4cb4-83d9-f141c12fdc70",
   "metadata": {},
   "outputs": [
    {
     "name": "stdout",
     "output_type": "stream",
     "text": [
      "<zip object at 0x000001B953C8D980>\n",
      "(1, 'a', 'A')\n",
      "(2, 'b', 'B')\n",
      "(3, 'c', 'C')\n",
      "(4, 'd', 'D')\n",
      "(5, 'e', 'E')\n"
     ]
    }
   ],
   "source": [
    "a = [1,2,3,4,5]\n",
    "b = ['a','b','c','d','e']\n",
    "c = ['A','B','C','D','E']\n",
    "\n",
    "d = zip(a,b,c)\n",
    "print(d)\n",
    "\n",
    "# len(d)   # zip does not have length\n",
    " \n",
    "for i in d: print(i)"
   ]
  },
  {
   "cell_type": "code",
   "execution_count": null,
   "id": "2f39b81d-9463-4098-863d-6cfccd6a293e",
   "metadata": {},
   "outputs": [],
   "source": [
    "\n",
    "\n",
    "\n",
    "############## loop with else ###############\n",
    "\n",
    "\n",
    " "
   ]
  },
  {
   "cell_type": "code",
   "execution_count": 44,
   "id": "fe4494d6-e851-4283-9497-7d947ff1a8cf",
   "metadata": {},
   "outputs": [
    {
     "name": "stdout",
     "output_type": "stream",
     "text": [
      "0\n",
      "1\n"
     ]
    }
   ],
   "source": [
    "for i in range(0,5):\n",
    "    if i==2:\n",
    "        break\n",
    "    print(i)\n",
    "else:    # will evaluate only if break doesn't encounter\n",
    "    print(\"done\")"
   ]
  }
 ],
 "metadata": {
  "kernelspec": {
   "display_name": "Python 3 (ipykernel)",
   "language": "python",
   "name": "python3"
  },
  "language_info": {
   "codemirror_mode": {
    "name": "ipython",
    "version": 3
   },
   "file_extension": ".py",
   "mimetype": "text/x-python",
   "name": "python",
   "nbconvert_exporter": "python",
   "pygments_lexer": "ipython3",
   "version": "3.12.6"
  }
 },
 "nbformat": 4,
 "nbformat_minor": 5
}
